{
 "cells": [
  {
   "cell_type": "code",
   "execution_count": 1,
   "id": "44f1f754",
   "metadata": {},
   "outputs": [
    {
     "name": "stdout",
     "output_type": "stream",
     "text": [
      "copying boxing.bin from /home/cool/Documents/ReinforcementLearningCourse/Roms/ROMS/Boxing - La Boxe (1980) (Activision, Bob Whitehead) (AG-002, CAG-002, AG-002-04) ~.bin to /home/cool/.local/lib/python3.8/site-packages/atari_py/atari_roms/boxing.bin\n",
      "copying pong.bin from /home/cool/Documents/ReinforcementLearningCourse/Roms/ROMS/Video Olympics - Pong Sports (Paddle) (1977) (Atari, Joe Decuir - Sears) (CX2621 - 99806, 6-99806, 49-75104) ~.bin to /home/cool/.local/lib/python3.8/site-packages/atari_py/atari_roms/pong.bin\n",
      "copying video_pinball.bin from /home/cool/Documents/ReinforcementLearningCourse/Roms/ROMS/Pinball (AKA Video Pinball) (Zellers).bin to /home/cool/.local/lib/python3.8/site-packages/atari_py/atari_roms/video_pinball.bin\n",
      "copying star_gunner.bin from /home/cool/Documents/ReinforcementLearningCourse/Roms/ROMS/Stargunner (1983) (Telesys, Alex Leavens) (1005) ~.bin to /home/cool/.local/lib/python3.8/site-packages/atari_py/atari_roms/star_gunner.bin\n",
      "copying tutankham.bin from /home/cool/Documents/ReinforcementLearningCourse/Roms/ROMS/Tutankham (1983) (Parker Brothers, Dave Engman, Dawn Stockbridge) (PB5340) ~.bin to /home/cool/.local/lib/python3.8/site-packages/atari_py/atari_roms/tutankham.bin\n",
      "copying trondead.bin from /home/cool/Documents/ReinforcementLearningCourse/Roms/ROMS/TRON - Deadly Discs (TRON Joystick) (1983) (M Network - INTV - APh Technological Consulting, Jeff Ronne, Brett Stutz) (MT5662) ~.bin to /home/cool/.local/lib/python3.8/site-packages/atari_py/atari_roms/trondead.bin\n",
      "copying air_raid.bin from /home/cool/Documents/ReinforcementLearningCourse/Roms/ROMS/Air Raid (1982) (Men-A-Vision) (PAL) ~.bin to /home/cool/.local/lib/python3.8/site-packages/atari_py/atari_roms/air_raid.bin\n",
      "copying mr_do.bin from /home/cool/Documents/ReinforcementLearningCourse/Roms/ROMS/Mr. Do! (1983) (CBS Electronics - Individeo, Ed English) (4L4478) (PAL).bin to /home/cool/.local/lib/python3.8/site-packages/atari_py/atari_roms/mr_do.bin\n",
      "copying space_invaders.bin from /home/cool/Documents/ReinforcementLearningCourse/Roms/ROMS/Space Invaders (1980) (Atari, Richard Maurer - Sears) (CX2632 - 49-75153) ~.bin to /home/cool/.local/lib/python3.8/site-packages/atari_py/atari_roms/space_invaders.bin\n",
      "copying zaxxon.bin from /home/cool/Documents/ReinforcementLearningCourse/Roms/ROMS/Zaxxon (1983) (Coleco) (2454) ~.bin to /home/cool/.local/lib/python3.8/site-packages/atari_py/atari_roms/zaxxon.bin\n",
      "copying name_this_game.bin from /home/cool/Documents/ReinforcementLearningCourse/Roms/ROMS/Name This Game (Guardians of Treasure, Octopussy) (1983) (U.S. Games Corporation - JWDA, Roger Booth, Sylvia Day, Ron Dubren, Todd Marshall, Robin McDaniel, Wes Trager, Henry Will IV) (VC1007) ~.bin to /home/cool/.local/lib/python3.8/site-packages/atari_py/atari_roms/name_this_game.bin\n",
      "copying fishing_derby.bin from /home/cool/Documents/ReinforcementLearningCourse/Roms/ROMS/Fishing Derby (1980) (Activision, David Crane) (AG-004) ~.bin to /home/cool/.local/lib/python3.8/site-packages/atari_py/atari_roms/fishing_derby.bin\n",
      "copying assault.bin from /home/cool/Documents/ReinforcementLearningCourse/Roms/ROMS/Assault (AKA Sky Alien) (1983) (Bomb - Onbase) (CA281).bin to /home/cool/.local/lib/python3.8/site-packages/atari_py/atari_roms/assault.bin\n",
      "copying beam_rider.bin from /home/cool/Documents/ReinforcementLearningCourse/Roms/ROMS/Beamrider (1984) (Activision - Cheshire Engineering, David Rolfe, Larry Zwick) (AZ-037-04) ~.bin to /home/cool/.local/lib/python3.8/site-packages/atari_py/atari_roms/beam_rider.bin\n",
      "copying amidar.bin from /home/cool/Documents/ReinforcementLearningCourse/Roms/ROMS/Amidar (1982) (Parker Brothers, Ed Temple) (PB5310) ~.bin to /home/cool/.local/lib/python3.8/site-packages/atari_py/atari_roms/amidar.bin\n",
      "copying up_n_down.bin from /home/cool/Documents/ReinforcementLearningCourse/Roms/ROMS/Up 'n Down (1984) (SEGA - Beck-Tech, Steve Beck, Phat Ho) (009-01) ~.bin to /home/cool/.local/lib/python3.8/site-packages/atari_py/atari_roms/up_n_down.bin\n",
      "copying kaboom.bin from /home/cool/Documents/ReinforcementLearningCourse/Roms/ROMS/Kaboom! (Paddle) (1981) (Activision, Larry Kaplan, David Crane) (AG-010, CAG-010, AG-010-04) ~.bin to /home/cool/.local/lib/python3.8/site-packages/atari_py/atari_roms/kaboom.bin\n",
      "copying surround.bin from /home/cool/Documents/ReinforcementLearningCourse/Roms/ROMS/Surround (32 in 1) (Bit Corporation) (R320).bin to /home/cool/.local/lib/python3.8/site-packages/atari_py/atari_roms/surround.bin\n",
      "copying ms_pacman.bin from /home/cool/Documents/ReinforcementLearningCourse/Roms/ROMS/Ms. Pac-Man (1983) (Atari - GCC, Mark S. Ackerman, Patricia Goodson, Josh Littlefield, Douglas B. Macrae, Glenn Parker) (CX2675) ~.bin to /home/cool/.local/lib/python3.8/site-packages/atari_py/atari_roms/ms_pacman.bin\n",
      "copying bowling.bin from /home/cool/Documents/ReinforcementLearningCourse/Roms/ROMS/Bowling (1979) (Atari, Larry Kaplan - Sears) (CX2628 - 6-99842, 49-75117) ~.bin to /home/cool/.local/lib/python3.8/site-packages/atari_py/atari_roms/bowling.bin\n",
      "copying skiing.bin from /home/cool/Documents/ReinforcementLearningCourse/Roms/ROMS/Skiing - Le Ski (1980) (Activision, Bob Whitehead) (AG-005, CAG-005, AG-005-04) ~.bin to /home/cool/.local/lib/python3.8/site-packages/atari_py/atari_roms/skiing.bin\n",
      "copying pitfall.bin from /home/cool/Documents/ReinforcementLearningCourse/Roms/ROMS/Pitfall! - Pitfall Harry's Jungle Adventure (Jungle Runner) (1982) (Activision, David Crane) (AX-018, AX-018-04) ~.bin to /home/cool/.local/lib/python3.8/site-packages/atari_py/atari_roms/pitfall.bin\n",
      "copying riverraid.bin from /home/cool/Documents/ReinforcementLearningCourse/Roms/ROMS/River Raid (1982) (Activision, Carol Shaw) (AX-020, AX-020-04) ~.bin to /home/cool/.local/lib/python3.8/site-packages/atari_py/atari_roms/riverraid.bin\n",
      "copying double_dunk.bin from /home/cool/Documents/ReinforcementLearningCourse/Roms/ROMS/Double Dunk (Super Basketball) (1989) (Atari, Matthew L. Hubbard) (CX26159) ~.bin to /home/cool/.local/lib/python3.8/site-packages/atari_py/atari_roms/double_dunk.bin\n",
      "copying time_pilot.bin from /home/cool/Documents/ReinforcementLearningCourse/Roms/ROMS/Time Pilot (1983) (Coleco - Woodside Design Associates, Harley H. Puthuff Jr.) (2663) ~.bin to /home/cool/.local/lib/python3.8/site-packages/atari_py/atari_roms/time_pilot.bin\n",
      "copying laser_gates.bin from /home/cool/Documents/ReinforcementLearningCourse/Roms/ROMS/Laser Gates (AKA Innerspace) (1983) (Imagic, Dan Oliver) (720118-2A, 13208, EIX-007-04I) (PAL).bin to /home/cool/.local/lib/python3.8/site-packages/atari_py/atari_roms/laser_gates.bin\n",
      "copying atlantis.bin from /home/cool/Documents/ReinforcementLearningCourse/Roms/ROMS/Atlantis (Lost City of Atlantis) (1982) (Imagic, Dennis Koble) (720103-1A, 720103-1B, IA3203, IX-010-04) ~.bin to /home/cool/.local/lib/python3.8/site-packages/atari_py/atari_roms/atlantis.bin\n",
      "copying solaris.bin from /home/cool/Documents/ReinforcementLearningCourse/Roms/ROMS/Solaris (The Last Starfighter, Star Raiders II, Universe) (1986) (Atari, Douglas Neubauer, Mimi Nyden) (CX26136) ~.bin to /home/cool/.local/lib/python3.8/site-packages/atari_py/atari_roms/solaris.bin\n",
      "copying crazy_climber.bin from /home/cool/Documents/ReinforcementLearningCourse/Roms/ROMS/Crazy Climber (1983) (Atari - Roklan, Joe Gaucher, Alex Leavens) (CX2683) ~.bin to /home/cool/.local/lib/python3.8/site-packages/atari_py/atari_roms/crazy_climber.bin\n",
      "copying berzerk.bin from /home/cool/Documents/ReinforcementLearningCourse/Roms/ROMS/Berzerk (1982) (Atari, Dan Hitchens - Sears) (CX2650 - 49-75168) ~.bin to /home/cool/.local/lib/python3.8/site-packages/atari_py/atari_roms/berzerk.bin\n",
      "copying asteroids.bin from /home/cool/Documents/ReinforcementLearningCourse/Roms/ROMS/Asteroids (1981) (Atari, Brad Stewart - Sears) (CX2649 - 49-75163) [no copyright] ~.bin to /home/cool/.local/lib/python3.8/site-packages/atari_py/atari_roms/asteroids.bin\n",
      "copying demon_attack.bin from /home/cool/Documents/ReinforcementLearningCourse/Roms/ROMS/Demon Attack (Death from Above) (1982) (Imagic, Rob Fulop) (720000-200, 720101-1B, 720101-1C, IA3200, IA3200C, IX-006-04) ~.bin to /home/cool/.local/lib/python3.8/site-packages/atari_py/atari_roms/demon_attack.bin\n",
      "copying yars_revenge.bin from /home/cool/Documents/ReinforcementLearningCourse/Roms/ROMS/Yars' Revenge (Time Freeze) (1982) (Atari, Howard Scott Warshaw - Sears) (CX2655 - 49-75167) ~.bin to /home/cool/.local/lib/python3.8/site-packages/atari_py/atari_roms/yars_revenge.bin\n",
      "copying gravitar.bin from /home/cool/Documents/ReinforcementLearningCourse/Roms/ROMS/Gravitar (1983) (Atari, Dan Hitchens, Mimi Nyden) (CX2685) ~.bin to /home/cool/.local/lib/python3.8/site-packages/atari_py/atari_roms/gravitar.bin\n",
      "copying qbert.bin from /home/cool/Documents/ReinforcementLearningCourse/Roms/ROMS/Q-bert (1983) (Parker Brothers - Western Technologies, Dave Hampton, Tom Sloper) (PB5360) ~.bin to /home/cool/.local/lib/python3.8/site-packages/atari_py/atari_roms/qbert.bin\n"
     ]
    },
    {
     "name": "stdout",
     "output_type": "stream",
     "text": [
      "copying donkey_kong.bin from /home/cool/Documents/ReinforcementLearningCourse/Roms/ROMS/Donkey Kong (1982) (Coleco - Woodside Design Associates - Imaginative Systems Software, Garry Kitchen) (2451) ~.bin to /home/cool/.local/lib/python3.8/site-packages/atari_py/atari_roms/donkey_kong.bin\n",
      "copying phoenix.bin from /home/cool/Documents/ReinforcementLearningCourse/Roms/ROMS/Phoenix (1983) (Atari - GCC, Michael Feinstein, Patricia Goodson, John Mracek) (CX2673) ~.bin to /home/cool/.local/lib/python3.8/site-packages/atari_py/atari_roms/phoenix.bin\n",
      "copying chopper_command.bin from /home/cool/Documents/ReinforcementLearningCourse/Roms/ROMS/Chopper Command (1982) (Activision, Bob Whitehead) (AX-015, AX-015-04) ~.bin to /home/cool/.local/lib/python3.8/site-packages/atari_py/atari_roms/chopper_command.bin\n",
      "copying freeway.bin from /home/cool/Documents/ReinforcementLearningCourse/Roms/ROMS/Freeway (1981) (Activision, David Crane) (AG-009, AG-009-04) ~.bin to /home/cool/.local/lib/python3.8/site-packages/atari_py/atari_roms/freeway.bin\n",
      "copying asterix.bin from /home/cool/Documents/ReinforcementLearningCourse/Roms/ROMS/Asterix (AKA Taz) (1984) (Atari, Jerome Domurat, Steve Woita) (CX2696).bin to /home/cool/.local/lib/python3.8/site-packages/atari_py/atari_roms/asterix.bin\n",
      "copying centipede.bin from /home/cool/Documents/ReinforcementLearningCourse/Roms/ROMS/Centipede (1983) (Atari - GCC, Patricia Goodson, Josh Littlefield, Douglas B. Macrae) (CX2676) ~.bin to /home/cool/.local/lib/python3.8/site-packages/atari_py/atari_roms/centipede.bin\n",
      "copying pooyan.bin from /home/cool/Documents/ReinforcementLearningCourse/Roms/ROMS/Pooyan (1983) (Konami) (RC 100-X 02) ~.bin to /home/cool/.local/lib/python3.8/site-packages/atari_py/atari_roms/pooyan.bin\n",
      "copying carnival.bin from /home/cool/Documents/ReinforcementLearningCourse/Roms/ROMS/Carnival (1982) (Coleco - Woodside Design Associates, Steve 'Jessica Stevens' Kitchen) (2468) ~.bin to /home/cool/.local/lib/python3.8/site-packages/atari_py/atari_roms/carnival.bin\n",
      "copying venture.bin from /home/cool/Documents/ReinforcementLearningCourse/Roms/ROMS/Venture (1982) (Coleco, Joseph Biel) (2457) ~.bin to /home/cool/.local/lib/python3.8/site-packages/atari_py/atari_roms/venture.bin\n",
      "copying frogger.bin from /home/cool/Documents/ReinforcementLearningCourse/Roms/ROMS/Frogger (1982) (Parker Brothers, Ed English, David Lamkins) (PB5300) ~.bin to /home/cool/.local/lib/python3.8/site-packages/atari_py/atari_roms/frogger.bin\n",
      "copying kung_fu_master.bin from /home/cool/Documents/ReinforcementLearningCourse/Roms/ROMS/Kung-Fu Master (1987) (Activision - Imagineering, Dan Kitchen, Garry Kitchen) (AG-039-04) ~.bin to /home/cool/.local/lib/python3.8/site-packages/atari_py/atari_roms/kung_fu_master.bin\n",
      "copying private_eye.bin from /home/cool/Documents/ReinforcementLearningCourse/Roms/ROMS/Private Eye (1984) (Activision, Bob Whitehead) (AG-034-04) ~.bin to /home/cool/.local/lib/python3.8/site-packages/atari_py/atari_roms/private_eye.bin\n",
      "copying wizard_of_wor.bin from /home/cool/Documents/ReinforcementLearningCourse/Roms/ROMS/Wizard of Wor (1982) (CBS Electronics - Roklan, Joe Hellesen, Joe Wagner) (M8774, M8794) ~.bin to /home/cool/.local/lib/python3.8/site-packages/atari_py/atari_roms/wizard_of_wor.bin\n",
      "copying gopher.bin from /home/cool/Documents/ReinforcementLearningCourse/Roms/ROMS/Gopher (Gopher Attack) (1982) (U.S. Games Corporation - JWDA, Sylvia Day, Todd Marshall, Robin McDaniel, Henry Will IV) (VC2001) ~.bin to /home/cool/.local/lib/python3.8/site-packages/atari_py/atari_roms/gopher.bin\n",
      "copying breakout.bin from /home/cool/Documents/ReinforcementLearningCourse/Roms/ROMS/Breakout - Breakaway IV (Paddle) (1978) (Atari, Brad Stewart - Sears) (CX2622 - 6-99813, 49-75107) ~.bin to /home/cool/.local/lib/python3.8/site-packages/atari_py/atari_roms/breakout.bin\n",
      "copying alien.bin from /home/cool/Documents/ReinforcementLearningCourse/Roms/ROMS/Alien (1982) (20th Century Fox Video Games, Douglas 'Dallas North' Neubauer) (11006) ~.bin to /home/cool/.local/lib/python3.8/site-packages/atari_py/atari_roms/alien.bin\n",
      "copying jamesbond.bin from /home/cool/Documents/ReinforcementLearningCourse/Roms/ROMS/James Bond 007 (James Bond Agent 007) (1984) (Parker Brothers - On-Time Software, Joe Gaucher, Dan Kurczewski, Louis Marbel, Kathy Von) (PB5110) ~.bin to /home/cool/.local/lib/python3.8/site-packages/atari_py/atari_roms/jamesbond.bin\n",
      "copying koolaid.bin from /home/cool/Documents/ReinforcementLearningCourse/Roms/ROMS/Kool-Aid Man (Kool Aid Pitcher Man) (1983) (M Network, Stephen Tatsumi, Jane Terjung - Kool Aid) (MT4648) ~.bin to /home/cool/.local/lib/python3.8/site-packages/atari_py/atari_roms/koolaid.bin\n",
      "copying lost_luggage.bin from /home/cool/Documents/ReinforcementLearningCourse/Roms/ROMS/Lost Luggage (Airport Mayhem) (1982) (Apollo - Games by Apollo, Larry Minor, Ernie Runyon, Ed Salvo) (AP-2004) [no opening scene] ~.bin to /home/cool/.local/lib/python3.8/site-packages/atari_py/atari_roms/lost_luggage.bin\n",
      "copying journey_escape.bin from /home/cool/Documents/ReinforcementLearningCourse/Roms/ROMS/Journey Escape (1983) (Data Age, J. Ray Dettling) (112-006) ~.bin to /home/cool/.local/lib/python3.8/site-packages/atari_py/atari_roms/journey_escape.bin\n",
      "copying battle_zone.bin from /home/cool/Documents/ReinforcementLearningCourse/Roms/ROMS/Battlezone (1983) (Atari - GCC, Michael Feinstein, Patricia Goodson, Brad Rice) (CX2681) ~.bin to /home/cool/.local/lib/python3.8/site-packages/atari_py/atari_roms/battle_zone.bin\n",
      "copying keystone_kapers.bin from /home/cool/Documents/ReinforcementLearningCourse/Roms/ROMS/Keystone Kapers - Raueber und Gendarm (1983) (Activision, Garry Kitchen - Ariola) (EAX-025, EAX-025-04I - 711 025-725) (PAL).bin to /home/cool/.local/lib/python3.8/site-packages/atari_py/atari_roms/keystone_kapers.bin\n",
      "copying enduro.bin from /home/cool/Documents/ReinforcementLearningCourse/Roms/ROMS/Enduro (1983) (Activision, Larry Miller) (AX-026, AX-026-04) ~.bin to /home/cool/.local/lib/python3.8/site-packages/atari_py/atari_roms/enduro.bin\n",
      "copying adventure.bin from /home/cool/Documents/ReinforcementLearningCourse/Roms/ROMS/Adventure (1980) (Atari, Warren Robinett) (CX2613, CX2613P) (PAL).bin to /home/cool/.local/lib/python3.8/site-packages/atari_py/atari_roms/adventure.bin\n",
      "copying pacman.bin from /home/cool/Documents/ReinforcementLearningCourse/Roms/ROMS/Pac-Man (1982) (Atari, Tod Frye) (CX2646) (PAL).bin to /home/cool/.local/lib/python3.8/site-packages/atari_py/atari_roms/pacman.bin\n",
      "copying seaquest.bin from /home/cool/Documents/ReinforcementLearningCourse/Roms/ROMS/Seaquest (1983) (Activision, Steve Cartwright) (AX-022) ~.bin to /home/cool/.local/lib/python3.8/site-packages/atari_py/atari_roms/seaquest.bin\n",
      "copying krull.bin from /home/cool/Documents/ReinforcementLearningCourse/Roms/ROMS/Krull (1983) (Atari, Jerome Domurat, Dave Staugas) (CX2682) ~.bin to /home/cool/.local/lib/python3.8/site-packages/atari_py/atari_roms/krull.bin\n",
      "copying king_kong.bin from /home/cool/Documents/ReinforcementLearningCourse/Roms/ROMS/King Kong (1982) (Tigervision - Software Electronics Corporation, Karl T. Olinger - Teldec) (7-001 - 3.60001 VE) (PAL).bin to /home/cool/.local/lib/python3.8/site-packages/atari_py/atari_roms/king_kong.bin\n",
      "copying sir_lancelot.bin from /home/cool/Documents/ReinforcementLearningCourse/Roms/ROMS/Sir Lancelot (1983) (Xonox - K-Tel Software - Product Guild, Anthony R. Henderson) (99006, 6220) (PAL).bin to /home/cool/.local/lib/python3.8/site-packages/atari_py/atari_roms/sir_lancelot.bin\n",
      "copying bank_heist.bin from /home/cool/Documents/ReinforcementLearningCourse/Roms/ROMS/Bank Heist (Bonnie & Clyde, Cops 'n' Robbers, Hold-Up, Roaring 20's) (1983) (20th Century Fox Video Games, Bill Aspromonte) (11012) ~.bin to /home/cool/.local/lib/python3.8/site-packages/atari_py/atari_roms/bank_heist.bin\n",
      "copying defender.bin from /home/cool/Documents/ReinforcementLearningCourse/Roms/ROMS/Defender (1982) (Atari, Robert C. Polaro, Alan J. Murphy - Sears) (CX2609 - 49-75186) ~.bin to /home/cool/.local/lib/python3.8/site-packages/atari_py/atari_roms/defender.bin\n",
      "copying kangaroo.bin from /home/cool/Documents/ReinforcementLearningCourse/Roms/ROMS/Kangaroo (1983) (Atari - GCC, Patricia Goodson, Josh Littlefield, Kevin Osborn) (CX2689) ~.bin to /home/cool/.local/lib/python3.8/site-packages/atari_py/atari_roms/kangaroo.bin\n",
      "copying hero.bin from /home/cool/Documents/ReinforcementLearningCourse/Roms/ROMS/H.E.R.O. (1984) (Activision, John Van Ryzin) (AZ-036-04) ~.bin to /home/cool/.local/lib/python3.8/site-packages/atari_py/atari_roms/hero.bin\n",
      "copying tennis.bin from /home/cool/Documents/ReinforcementLearningCourse/Roms/ROMS/Tennis - Le Tennis (1981) (Activision, Alan Miller) (AG-007, CAG-007) ~.bin to /home/cool/.local/lib/python3.8/site-packages/atari_py/atari_roms/tennis.bin\n",
      "copying robotank.bin from /home/cool/Documents/ReinforcementLearningCourse/Roms/ROMS/Robot Tank (Robotank) (1983) (Activision, Alan Miller) (AZ-028, AG-028-04) ~.bin to /home/cool/.local/lib/python3.8/site-packages/atari_py/atari_roms/robotank.bin\n",
      "copying frostbite.bin from /home/cool/Documents/ReinforcementLearningCourse/Roms/ROMS/Frostbite (Iceman) (1983) (Activision, Steve Cartwright) (AX-031) ~.bin to /home/cool/.local/lib/python3.8/site-packages/atari_py/atari_roms/frostbite.bin\n",
      "copying elevator_action.bin from /home/cool/Documents/ReinforcementLearningCourse/Roms/ROMS/Elevator Action (1983) (Atari, Dan Hitchens, Dave Staugas) (CX26126) (Prototype) ~.bin to /home/cool/.local/lib/python3.8/site-packages/atari_py/atari_roms/elevator_action.bin\n"
     ]
    },
    {
     "name": "stdout",
     "output_type": "stream",
     "text": [
      "copying ice_hockey.bin from /home/cool/Documents/ReinforcementLearningCourse/Roms/ROMS/Ice Hockey - Le Hockey Sur Glace (1981) (Activision, Alan Miller) (AX-012, CAX-012, AX-012-04) ~.bin to /home/cool/.local/lib/python3.8/site-packages/atari_py/atari_roms/ice_hockey.bin\n",
      "copying road_runner.bin from patched version of /home/cool/Documents/ReinforcementLearningCourse/Roms/ROMS/Road Runner (1989) (Atari - Bobco, Robert C. Polaro) (CX2663) ~.bin to /home/cool/.local/lib/python3.8/site-packages/atari_py/atari_roms/road_runner.bin\n",
      "copying montezuma_revenge.bin from /home/cool/Documents/ReinforcementLearningCourse/Roms/ROMS/Montezuma's Revenge - Featuring Panama Joe (1984) (Parker Brothers - JWDA, Henry Will IV) (PB5760) ~.bin to /home/cool/.local/lib/python3.8/site-packages/atari_py/atari_roms/montezuma_revenge.bin\n",
      "copying galaxian.bin from /home/cool/Documents/ReinforcementLearningCourse/Roms/ROMS/Galaxian (1983) (Atari - GCC, Mark S. Ackerman, Tom Calderwood, Patricia Goodson, Glenn Parker) (CX2684) ~.bin to /home/cool/.local/lib/python3.8/site-packages/atari_py/atari_roms/galaxian.bin\n"
     ]
    }
   ],
   "source": [
    "import gym\n",
    "\n",
    "from stable_baselines3 import A2C\n",
    "from stable_baselines3 import DQN\n",
    "from stable_baselines3 import PPO\n",
    "from stable_baselines3 import DQN\n",
    "\n",
    "\n",
    "from stable_baselines3.common.vec_env import VecFrameStack\n",
    "from stable_baselines3.common.evaluation import evaluate_policy\n",
    "\n",
    "from stable_baselines3.common.env_util import make_atari_env\n",
    "\n",
    "import os\n",
    "\n",
    "!python3 -m atari_py.import_roms /home/cool/Documents/ReinforcementLearningCourse/Roms/ROMS/"
   ]
  },
  {
   "cell_type": "code",
   "execution_count": 3,
   "id": "0ca3b345",
   "metadata": {},
   "outputs": [
    {
     "name": "stderr",
     "output_type": "stream",
     "text": [
      "A.L.E: Arcade Learning Environment (version 0.7.4+069f8bd)\n",
      "[Powered by Stella]\n"
     ]
    },
    {
     "name": "stdout",
     "output_type": "stream",
     "text": [
      "Wrapping the env in a VecTransposeImage.\n"
     ]
    },
    {
     "name": "stderr",
     "output_type": "stream",
     "text": [
      "[W NNPACK.cpp:64] Could not initialize NNPACK! Reason: Unsupported hardware.\n"
     ]
    },
    {
     "name": "stdout",
     "output_type": "stream",
     "text": [
      "mean reward:  16.96\n",
      "std_reward:  7.107629703353995\n"
     ]
    }
   ],
   "source": [
    "\n",
    "env = make_atari_env('Breakout-v0')\n",
    "env = VecFrameStack(env, n_stack=4)\n",
    "model = A2C.load(\"models/A2C_CnnPolicy_1000000.zip\", env)\n",
    "\n",
    "mean_reward, std_reward = evaluate_policy(model, model.get_env(), n_eval_episodes=50)\n",
    "print(\"mean reward: \", mean_reward)\n",
    "print(\"std_reward: \", std_reward)\n",
    "vec_env = model.get_env()\n",
    "obs = vec_env.reset()\n",
    "\n",
    "# for i in range(10):\n",
    "#     action, _states = model.predict(obs, deterministic=True)\n",
    "#     obs, rewards, dones, info = vec_env.step(action)\n",
    "#     vec_env.render(\"human\")\n",
    "\n",
    "\n",
    "\n",
    "\n"
   ]
  },
  {
   "cell_type": "code",
   "execution_count": 25,
   "id": "56673ae2",
   "metadata": {
    "scrolled": false
   },
   "outputs": [
    {
     "name": "stdout",
     "output_type": "stream",
     "text": [
      "Episode: 0 Score : [1.]\n",
      "Episode: 1 Score : [0.]\n",
      "Episode: 2 Score : [0.]\n",
      "Episode: 3 Score : [0.]\n",
      "Episode: 4 Score : [0.]\n",
      "Episode: 5 Score : [0.]\n",
      "Episode: 6 Score : [0.]\n",
      "Episode: 7 Score : [0.]\n",
      "Episode: 8 Score : [0.]\n",
      "Episode: 9 Score : [0.]\n"
     ]
    }
   ],
   "source": [
    "episodes = 10\n",
    "obs = env.reset()\n",
    "for episode in range(episodes):\n",
    "    action, _states = model.predict(obs)\n",
    "    obs, rewards,dones ,info = env.step(action)\n",
    "    env.render(\"human\")\n",
    "    print('Episode: {} Score : {}'.format(episode, rewards))\n",
    "\n",
    "# for episode in range(10):\n",
    "#     state = env.reset()\n",
    "#     done = False\n",
    "#     score = 0\n",
    "    \n",
    "#     while not done:\n",
    "#         env.render()\n",
    "#         action, _ = model.predict(state)\n",
    "#         n_state, reward, done, info = env.step(action)\n",
    "#         score+= reward\n",
    "#     print('Episode: {} Score : {}'.format(episode, score))\n",
    "    \n",
    "env.close()"
   ]
  },
  {
   "cell_type": "code",
   "execution_count": 14,
   "id": "dc75b776",
   "metadata": {},
   "outputs": [],
   "source": [
    "def testModel(pathModel, enviroment_name, n_envs, seed, episodes):\n",
    "    \n",
    "    \n",
    "    env = make_atari_env(enviroment_name, n_envs=n_envs, seed=seed)\n",
    "    env = VecFrameStack(env, n_stack=4)\n",
    "    model = A2C.load(pathModel, env)\n",
    "    \n",
    "    \n",
    "    evaluate_policy(model, env, n_eval_episodes=episodes, render=True)\n",
    "    \n",
    "    \n",
    "    obs = env.reset()\n",
    "    for episode in ragne(episodes):\n",
    "        action, _states = model.predict(obs)\n",
    "        obs, rewards, dones, info = env.step(action)\n",
    "        \n",
    "        print(rewards)\n",
    "        env.render()\n",
    "    env.close()\n",
    "    del model\n",
    "    \n",
    "    \n",
    "    \n",
    "    "
   ]
  },
  {
   "cell_type": "code",
   "execution_count": 5,
   "id": "56d4e79c",
   "metadata": {},
   "outputs": [],
   "source": [
    "env.close()"
   ]
  },
  {
   "cell_type": "code",
   "execution_count": null,
   "id": "bc70fdec",
   "metadata": {},
   "outputs": [],
   "source": [
    "enviroment_name = 'Breakout-v0'\n",
    "policy = 'CnnPolicy'\n",
    "algorithm = 'A2C'\n",
    "n_envs=1\n",
    "pathModel=\"models/A2C_CnnPolicy_100000.zip\"\n",
    "seed=0\n",
    "verbose=1\n",
    "episodes = 5 \n",
    "\n",
    "\n",
    "testModel(pathModel, enviroment_name, n_envs, seed, episodes)"
   ]
  },
  {
   "cell_type": "code",
   "execution_count": null,
   "id": "b5e5371e",
   "metadata": {},
   "outputs": [],
   "source": []
  },
  {
   "cell_type": "code",
   "execution_count": null,
   "id": "ac2ffd67",
   "metadata": {},
   "outputs": [],
   "source": [
    "env.close()"
   ]
  },
  {
   "cell_type": "code",
   "execution_count": null,
   "id": "96731ac4",
   "metadata": {},
   "outputs": [],
   "source": [
    "model = A2C.load(pathModel, env)\n",
    "env = make_atari_env(enviroment_name, n_envs=n_envs, seed=seed)\n",
    "env = VecFrameStack(env, n_stack=4)\n",
    "\n"
   ]
  },
  {
   "cell_type": "code",
   "execution_count": null,
   "id": "57a9b802",
   "metadata": {},
   "outputs": [],
   "source": [
    "    \n",
    "    \n",
    "evaluate_policy(model, env, n_eval_episodes=episodes, render=True)\n"
   ]
  },
  {
   "cell_type": "code",
   "execution_count": null,
   "id": "36e14fac",
   "metadata": {},
   "outputs": [],
   "source": [
    "episode_rewards = []\n",
    "for episode in range(episodes):\n",
    "    obs = env.reset()\n",
    "    done = False\n",
    "    episode_reward = 0\n",
    "    \n",
    "    while not done:\n",
    "        \n",
    "        action, _ = model.predict(obs)\n",
    "        obs, reward, done, _ = env.step(action)\n",
    "        episode_reward += reward\n",
    "        \n",
    "        \n",
    "    episode_rewards.append(episode_reward)\n",
    "    \n",
    "    print(episode_reward)\n"
   ]
  },
  {
   "cell_type": "code",
   "execution_count": null,
   "id": "66806d84",
   "metadata": {},
   "outputs": [],
   "source": []
  },
  {
   "cell_type": "code",
   "execution_count": null,
   "id": "1b5ae1d7",
   "metadata": {},
   "outputs": [],
   "source": []
  }
 ],
 "metadata": {
  "kernelspec": {
   "display_name": "Python 3 (ipykernel)",
   "language": "python",
   "name": "python3"
  },
  "language_info": {
   "codemirror_mode": {
    "name": "ipython",
    "version": 3
   },
   "file_extension": ".py",
   "mimetype": "text/x-python",
   "name": "python",
   "nbconvert_exporter": "python",
   "pygments_lexer": "ipython3",
   "version": "3.8.10"
  }
 },
 "nbformat": 4,
 "nbformat_minor": 5
}
